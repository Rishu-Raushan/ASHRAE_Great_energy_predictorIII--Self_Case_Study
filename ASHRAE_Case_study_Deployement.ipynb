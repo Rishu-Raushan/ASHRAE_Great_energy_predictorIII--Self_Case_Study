{
  "nbformat": 4,
  "nbformat_minor": 0,
  "metadata": {
    "colab": {
      "name": "ASHRAE_Case_study_Deployement.ipynb",
      "provenance": [],
      "collapsed_sections": []
    },
    "kernelspec": {
      "name": "python3",
      "display_name": "Python 3"
    },
    "language_info": {
      "name": "python"
    }
  },
  "cells": [
    {
      "cell_type": "markdown",
      "source": [
        "Source : https://martian1231-py.medium.com/ashrae-great-energy-predictor-iii-a-machine-learning-self-case-study-5c9e9d0ea11d\n",
        "\n",
        "https://medium.com/analytics-vidhya/ashrae-great-energy-predictor-iii-a-machine-learning-case-study-a01a67eb048d"
      ],
      "metadata": {
        "id": "Qg6pdd0SI4I-"
      }
    },
    {
      "cell_type": "code",
      "execution_count": 1,
      "metadata": {
        "id": "de15K2mof7bB"
      },
      "outputs": [],
      "source": [
        "#installing streamlit and pyngrok\n",
        "!pip -q install streamlit\n",
        "!pip -q install pyngrok"
      ]
    },
    {
      "cell_type": "code",
      "source": [
        "from pyngrok import ngrok\n",
        "from sklearn.preprocessing import LabelEncoder\n",
        "import joblib\n",
        "import pandas as pd\n",
        "import numpy as np\n",
        "import lightgbm as lgb\n",
        "import pickle\n"
      ],
      "metadata": {
        "id": "7uANzTjsgl1I"
      },
      "execution_count": 2,
      "outputs": []
    },
    {
      "cell_type": "code",
      "source": [
        "%%writefile app.py\n",
        "\n",
        "from pyngrok import ngrok\n",
        "from sklearn.preprocessing import LabelEncoder\n",
        "import joblib\n",
        "import pandas as pd\n",
        "import numpy as np\n",
        "import streamlit as st\n",
        "import lightgbm as lgb\n",
        "\n",
        "\n",
        "\n",
        "file_to_be_upload= st.file_uploader(\"Select a file\")\n",
        "if file_to_be_upload is not None:\n",
        "\n",
        "  test_point= pd.read_csv(file_to_be_upload)\n",
        "  x_train= pd.read_feather('/content/drive/MyDrive/Ashrae_case_study/X_train_new.ftr')\n",
        "  light_gbdt_model= joblib.load('lgbm_reg.sav')\n",
        "\n",
        "  #handling all the missing values\n",
        "\n",
        "  test_point['air_temperature'].fillna(0, inplace=True)\n",
        "  test_point['cloud_coverage'].fillna(0, inplace=True)\n",
        "  test_point['precip_depth_1_hr'].fillna(0, inplace=True)\n",
        "  test_point['sea_level_pressure'].fillna(0, inplace=True)\n",
        "  test_point['wind_direction'].fillna(0, inplace=True)\n",
        "  test_point['wind_speed'].fillna(0, inplace=True)\n",
        "\n",
        "  #Label encoding primary use and season features\n",
        "  label_enc= LabelEncoder()\n",
        "  label_enc.fit(x_train['primary_use'])\n",
        "  test_point['primary_use']= label_enc.transform(test_point['primary_use'])\n",
        "\n",
        "  label_enc.fit(x_train['season'])\n",
        "  test_point['season']= label_enc.transform(test_point['season'])\n",
        "\n",
        "  #predicting the data point\n",
        "  log_energy_usage= light_gbdt_model.predict(test_point)\n",
        "  energy_consumed= np.expm1(log_energy_usage)\n",
        "\n",
        "  #display the predicted output in webpage\n",
        "  st.subheader('Energy Prediction Using Ashrae Dataset:')\n",
        "  st.write(energy_consumed)"
      ],
      "metadata": {
        "colab": {
          "base_uri": "https://localhost:8080/"
        },
        "id": "FicVh_FBgq1u",
        "outputId": "d19e443a-f2f7-467f-cd7b-c0fd30c4f181"
      },
      "execution_count": 3,
      "outputs": [
        {
          "output_type": "stream",
          "name": "stdout",
          "text": [
            "Overwriting app.py\n"
          ]
        }
      ]
    },
    {
      "cell_type": "code",
      "source": [
        "!ngrok authtoken 22QHtclLA01Usk575UMpbLtABkI_3yPVmGnUrynWTm3kYDoCA"
      ],
      "metadata": {
        "colab": {
          "base_uri": "https://localhost:8080/"
        },
        "id": "ei2LRgw3h0Si",
        "outputId": "7fcf3f92-2841-4202-833c-2a4d46015043"
      },
      "execution_count": 4,
      "outputs": [
        {
          "output_type": "stream",
          "name": "stdout",
          "text": [
            "Authtoken saved to configuration file: /root/.ngrok2/ngrok.yml\n"
          ]
        }
      ]
    },
    {
      "cell_type": "markdown",
      "source": [
        "**Creating Ngrok link**"
      ],
      "metadata": {
        "id": "LybBM1wdAHoF"
      }
    },
    {
      "cell_type": "code",
      "source": [
        "public_url = ngrok.connect(port='80')\n",
        "print (public_url)\n",
        "!streamlit run --server.port 80 app.py >/dev/null"
      ],
      "metadata": {
        "colab": {
          "base_uri": "https://localhost:8080/"
        },
        "id": "yGkAXDnqiLt_",
        "outputId": "4a3ef219-0123-4f6f-8ab8-6904ce036cd2"
      },
      "execution_count": 5,
      "outputs": [
        {
          "output_type": "stream",
          "name": "stdout",
          "text": [
            "NgrokTunnel: \"http://ee7b-35-245-234-126.ngrok.io\" -> \"http://localhost:80\"\n"
          ]
        }
      ]
    },
    {
      "cell_type": "markdown",
      "source": [
        "# **Video link for my Deployment**\n",
        "\n",
        "https://youtu.be/lNFvbbjGg_I"
      ],
      "metadata": {
        "id": "_boEKF1kJObR"
      }
    }
  ]
}